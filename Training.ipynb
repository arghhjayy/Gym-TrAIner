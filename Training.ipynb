{
  "nbformat": 4,
  "nbformat_minor": 0,
  "metadata": {
    "colab": {
      "name": "Copy of Squat detection",
      "provenance": [],
      "collapsed_sections": []
    },
    "kernelspec": {
      "name": "python3",
      "display_name": "Python 3"
    },
    "language_info": {
      "name": "python"
    },
    "accelerator": "GPU"
  },
  "cells": [
    {
      "cell_type": "code",
      "metadata": {
        "id": "S7VHaH8A02Xa"
      },
      "source": [
        "import numpy as np\n",
        "import random\n",
        "from tensorflow.keras.models import Sequential\n",
        "from tensorflow.keras.layers import LSTM, Dense\n",
        "from tensorflow.keras.optimizers import Adam\n",
        "from sklearn.model_selection import train_test_split"
      ],
      "execution_count": 87,
      "outputs": []
    },
    {
      "cell_type": "code",
      "metadata": {
        "id": "KHfr9nPR05jW"
      },
      "source": [
        "data_label0 = np.load(\"/content/final_data_truelabel0.npy\", allow_pickle=True)\n",
        "data_label1 = np.load(\"/content/final_data_label1.npy\", allow_pickle=True)"
      ],
      "execution_count": 88,
      "outputs": []
    },
    {
      "cell_type": "code",
      "metadata": {
        "id": "WwDki8IQWeBh"
      },
      "source": [
        "data_label0 = data_label0[:27]"
      ],
      "execution_count": 89,
      "outputs": []
    },
    {
      "cell_type": "code",
      "metadata": {
        "id": "_QxjjRfZSAyD"
      },
      "source": [
        "y = len(data_label0) * [0] + len(data_label1) * [1]"
      ],
      "execution_count": 90,
      "outputs": []
    },
    {
      "cell_type": "code",
      "metadata": {
        "id": "-3xcosIKSIE_"
      },
      "source": [
        "y = np.array(y)"
      ],
      "execution_count": 91,
      "outputs": []
    },
    {
      "cell_type": "code",
      "metadata": {
        "colab": {
          "base_uri": "https://localhost:8080/"
        },
        "id": "ZvmtagIJSsx0",
        "outputId": "c5dde8f1-08f7-41f0-9865-658056c90e64"
      },
      "source": [
        "data_label0.shape"
      ],
      "execution_count": 92,
      "outputs": [
        {
          "output_type": "execute_result",
          "data": {
            "text/plain": [
              "(27, 75, 6, 2)"
            ]
          },
          "metadata": {},
          "execution_count": 92
        }
      ]
    },
    {
      "cell_type": "code",
      "metadata": {
        "colab": {
          "base_uri": "https://localhost:8080/"
        },
        "id": "PCRQtOKHSu96",
        "outputId": "cb70ca9c-3b7c-49b8-a317-0486db97f8a9"
      },
      "source": [
        "data_label1.shape"
      ],
      "execution_count": 93,
      "outputs": [
        {
          "output_type": "execute_result",
          "data": {
            "text/plain": [
              "(27, 75, 6, 2)"
            ]
          },
          "metadata": {},
          "execution_count": 93
        }
      ]
    },
    {
      "cell_type": "code",
      "metadata": {
        "id": "C2Bx5ED4Sjt5"
      },
      "source": [
        "X = np.concatenate((data_label0, data_label1))"
      ],
      "execution_count": 94,
      "outputs": []
    },
    {
      "cell_type": "code",
      "metadata": {
        "colab": {
          "base_uri": "https://localhost:8080/"
        },
        "id": "pRsvaMGETNBv",
        "outputId": "d2cb9763-2504-4bc3-9f9b-306039f83f76"
      },
      "source": [
        "X.shape, y.shape"
      ],
      "execution_count": 95,
      "outputs": [
        {
          "output_type": "execute_result",
          "data": {
            "text/plain": [
              "((54, 75, 6, 2), (54,))"
            ]
          },
          "metadata": {},
          "execution_count": 95
        }
      ]
    },
    {
      "cell_type": "code",
      "metadata": {
        "id": "42TeKNSmSPQw"
      },
      "source": [
        "X_train, X_test, y_train, y_test = train_test_split(X, y, stratify=y, test_size=0.1, random_state=21)"
      ],
      "execution_count": 96,
      "outputs": []
    },
    {
      "cell_type": "code",
      "metadata": {
        "colab": {
          "base_uri": "https://localhost:8080/"
        },
        "id": "O_mdvI_j5I2Z",
        "outputId": "62cded32-137b-4c35-84e7-6daa46bcd198"
      },
      "source": [
        "X_train.shape, y_train.shape, X_test.shape, y_test.shape"
      ],
      "execution_count": 97,
      "outputs": [
        {
          "output_type": "execute_result",
          "data": {
            "text/plain": [
              "((48, 75, 6, 2), (48,), (6, 75, 6, 2), (6,))"
            ]
          },
          "metadata": {},
          "execution_count": 97
        }
      ]
    },
    {
      "cell_type": "code",
      "metadata": {
        "id": "fGNxdnC09Azo"
      },
      "source": [
        "X_train = X_train.reshape((-1, 75, 12))\n",
        "X_test  = X_test.reshape((-1, 75, 12))"
      ],
      "execution_count": 98,
      "outputs": []
    },
    {
      "cell_type": "code",
      "metadata": {
        "id": "WvFngbM8-W0j"
      },
      "source": [
        "import tensorflow as tf"
      ],
      "execution_count": 99,
      "outputs": []
    },
    {
      "cell_type": "code",
      "metadata": {
        "id": "02l5Fdfl-eL1"
      },
      "source": [
        "tf.random.set_seed(21)"
      ],
      "execution_count": 100,
      "outputs": []
    },
    {
      "cell_type": "code",
      "metadata": {
        "colab": {
          "base_uri": "https://localhost:8080/"
        },
        "id": "eMKKP9VT2hQU",
        "outputId": "12c983d5-41a6-441e-8aef-ddb3132be49a"
      },
      "source": [
        "model = Sequential()\n",
        "model.add(LSTM(64, return_sequences=True, activation='relu', input_shape=(75,12)))\n",
        "model.add(LSTM(128, return_sequences=True, activation='relu'))\n",
        "model.add(LSTM(64, return_sequences=False, activation='relu'))\n",
        "model.add(Dense(64, activation='relu'))\n",
        "model.add(Dense(32, activation='relu'))\n",
        "model.add(Dense(1, activation='sigmoid'))"
      ],
      "execution_count": 112,
      "outputs": [
        {
          "output_type": "stream",
          "text": [
            "WARNING:tensorflow:Layer lstm_18 will not use cuDNN kernels since it doesn't meet the criteria. It will use a generic GPU kernel as fallback when running on GPU.\n",
            "WARNING:tensorflow:Layer lstm_19 will not use cuDNN kernels since it doesn't meet the criteria. It will use a generic GPU kernel as fallback when running on GPU.\n",
            "WARNING:tensorflow:Layer lstm_20 will not use cuDNN kernels since it doesn't meet the criteria. It will use a generic GPU kernel as fallback when running on GPU.\n"
          ],
          "name": "stdout"
        }
      ]
    },
    {
      "cell_type": "code",
      "metadata": {
        "colab": {
          "base_uri": "https://localhost:8080/"
        },
        "id": "IOE_OxLI9PiG",
        "outputId": "73d4074d-6e6e-45e6-fa95-42b26aa38776"
      },
      "source": [
        "model.summary()"
      ],
      "execution_count": 113,
      "outputs": [
        {
          "output_type": "stream",
          "text": [
            "Model: \"sequential_6\"\n",
            "_________________________________________________________________\n",
            "Layer (type)                 Output Shape              Param #   \n",
            "=================================================================\n",
            "lstm_18 (LSTM)               (None, 75, 64)            19712     \n",
            "_________________________________________________________________\n",
            "lstm_19 (LSTM)               (None, 75, 128)           98816     \n",
            "_________________________________________________________________\n",
            "lstm_20 (LSTM)               (None, 64)                49408     \n",
            "_________________________________________________________________\n",
            "dense_18 (Dense)             (None, 64)                4160      \n",
            "_________________________________________________________________\n",
            "dense_19 (Dense)             (None, 32)                2080      \n",
            "_________________________________________________________________\n",
            "dense_20 (Dense)             (None, 1)                 33        \n",
            "=================================================================\n",
            "Total params: 174,209\n",
            "Trainable params: 174,209\n",
            "Non-trainable params: 0\n",
            "_________________________________________________________________\n"
          ],
          "name": "stdout"
        }
      ]
    },
    {
      "cell_type": "code",
      "metadata": {
        "id": "Sn4dODaV9YSD"
      },
      "source": [
        "model.compile(optimizer=Adam(), loss='binary_crossentropy', metrics=['accuracy'])"
      ],
      "execution_count": 114,
      "outputs": []
    },
    {
      "cell_type": "code",
      "metadata": {
        "id": "Hbp3R5ZFXrRO"
      },
      "source": [
        "# from tensorflow.keras.callbacks import EarlyStopping\n",
        "from tensorflow.keras.callbacks import ModelCheckpoint"
      ],
      "execution_count": 115,
      "outputs": []
    },
    {
      "cell_type": "code",
      "metadata": {
        "id": "pp8-OYyPXz_s"
      },
      "source": [
        "# es = EarlyStopping(monitor=\"accuracy\", mode=\"max\", patience=30)\n",
        "chkpt = ModelCheckpoint(\"/content/checkpoints\", monitor=\"loss\", save_best_only=True, mode=\"min\")"
      ],
      "execution_count": 116,
      "outputs": []
    },
    {
      "cell_type": "code",
      "metadata": {
        "colab": {
          "base_uri": "https://localhost:8080/"
        },
        "id": "oflGNhPM9ed_",
        "outputId": "0b99eeae-16eb-4c58-c81f-04c91530c180"
      },
      "source": [
        "model.fit(x=X_train, y=y_train, epochs=75, callbacks=[chkpt])"
      ],
      "execution_count": 117,
      "outputs": [
        {
          "output_type": "stream",
          "text": [
            "Epoch 1/75\n",
            "2/2 [==============================] - 3s 329ms/step - loss: 0.6923 - accuracy: 0.5000\n",
            "INFO:tensorflow:Assets written to: /content/checkpoints/assets\n",
            "Epoch 2/75\n",
            "2/2 [==============================] - 1s 344ms/step - loss: 0.6914 - accuracy: 0.8958\n",
            "INFO:tensorflow:Assets written to: /content/checkpoints/assets\n",
            "Epoch 3/75\n",
            "2/2 [==============================] - 1s 323ms/step - loss: 0.6896 - accuracy: 0.5000\n",
            "INFO:tensorflow:Assets written to: /content/checkpoints/assets\n",
            "Epoch 4/75\n",
            "2/2 [==============================] - 1s 320ms/step - loss: 0.6864 - accuracy: 0.5000\n",
            "INFO:tensorflow:Assets written to: /content/checkpoints/assets\n",
            "Epoch 5/75\n",
            "2/2 [==============================] - 1s 349ms/step - loss: 0.6813 - accuracy: 0.5000\n",
            "INFO:tensorflow:Assets written to: /content/checkpoints/assets\n",
            "Epoch 6/75\n",
            "2/2 [==============================] - 1s 324ms/step - loss: 0.6685 - accuracy: 0.5000\n",
            "INFO:tensorflow:Assets written to: /content/checkpoints/assets\n",
            "Epoch 7/75\n",
            "2/2 [==============================] - 1s 344ms/step - loss: 0.6380 - accuracy: 0.5000\n",
            "INFO:tensorflow:Assets written to: /content/checkpoints/assets\n",
            "Epoch 8/75\n",
            "2/2 [==============================] - 1s 327ms/step - loss: 0.4977 - accuracy: 0.5208\n",
            "INFO:tensorflow:Assets written to: /content/checkpoints/assets\n",
            "Epoch 9/75\n",
            "2/2 [==============================] - 1s 354ms/step - loss: 0.6376 - accuracy: 0.7500\n",
            "Epoch 10/75\n",
            "2/2 [==============================] - 1s 330ms/step - loss: 7.4258 - accuracy: 0.5833\n",
            "Epoch 11/75\n",
            "2/2 [==============================] - 1s 339ms/step - loss: 0.9709 - accuracy: 0.5000\n",
            "Epoch 12/75\n",
            "2/2 [==============================] - 1s 344ms/step - loss: 0.7060 - accuracy: 0.5000\n",
            "Epoch 13/75\n",
            "2/2 [==============================] - 1s 365ms/step - loss: 0.6980 - accuracy: 0.5000\n",
            "Epoch 14/75\n",
            "2/2 [==============================] - 1s 349ms/step - loss: 0.6942 - accuracy: 0.5000\n",
            "Epoch 15/75\n",
            "2/2 [==============================] - 1s 356ms/step - loss: 0.6928 - accuracy: 0.5000\n",
            "Epoch 16/75\n",
            "2/2 [==============================] - 1s 373ms/step - loss: 0.6921 - accuracy: 0.5000\n",
            "Epoch 17/75\n",
            "2/2 [==============================] - 1s 326ms/step - loss: 0.6921 - accuracy: 0.5000\n",
            "Epoch 18/75\n",
            "2/2 [==============================] - 1s 350ms/step - loss: 0.6914 - accuracy: 0.5000\n",
            "Epoch 19/75\n",
            "2/2 [==============================] - 1s 357ms/step - loss: 0.6913 - accuracy: 0.5000\n",
            "Epoch 20/75\n",
            "2/2 [==============================] - 1s 362ms/step - loss: 0.6908 - accuracy: 0.5000\n",
            "Epoch 21/75\n",
            "2/2 [==============================] - 1s 346ms/step - loss: 0.6905 - accuracy: 0.5000\n",
            "Epoch 22/75\n",
            "2/2 [==============================] - 1s 362ms/step - loss: 0.6903 - accuracy: 0.5000\n",
            "Epoch 23/75\n",
            "2/2 [==============================] - 1s 359ms/step - loss: 0.6903 - accuracy: 0.5000\n",
            "Epoch 24/75\n",
            "2/2 [==============================] - 1s 361ms/step - loss: 0.6899 - accuracy: 0.5000\n",
            "Epoch 25/75\n",
            "2/2 [==============================] - 1s 345ms/step - loss: 0.6897 - accuracy: 0.5000\n",
            "Epoch 26/75\n",
            "2/2 [==============================] - 1s 337ms/step - loss: 0.6894 - accuracy: 0.5000\n",
            "Epoch 27/75\n",
            "2/2 [==============================] - 1s 356ms/step - loss: 0.6891 - accuracy: 0.5000\n",
            "Epoch 28/75\n",
            "2/2 [==============================] - 1s 354ms/step - loss: 0.6886 - accuracy: 0.5000\n",
            "Epoch 29/75\n",
            "2/2 [==============================] - 1s 333ms/step - loss: 0.6881 - accuracy: 0.5000\n",
            "Epoch 30/75\n",
            "2/2 [==============================] - 1s 307ms/step - loss: 0.6874 - accuracy: 0.5000\n",
            "Epoch 31/75\n",
            "2/2 [==============================] - 1s 338ms/step - loss: 0.6867 - accuracy: 0.5000\n",
            "Epoch 32/75\n",
            "2/2 [==============================] - 1s 341ms/step - loss: 0.6854 - accuracy: 0.5000\n",
            "Epoch 33/75\n",
            "2/2 [==============================] - 1s 324ms/step - loss: 0.6841 - accuracy: 0.5000\n",
            "Epoch 34/75\n",
            "2/2 [==============================] - 1s 354ms/step - loss: 0.6821 - accuracy: 0.5000\n",
            "Epoch 35/75\n",
            "2/2 [==============================] - 1s 323ms/step - loss: 0.6791 - accuracy: 0.5000\n",
            "Epoch 36/75\n",
            "2/2 [==============================] - 1s 354ms/step - loss: 0.6754 - accuracy: 0.5000\n",
            "Epoch 37/75\n",
            "2/2 [==============================] - 1s 328ms/step - loss: 0.6703 - accuracy: 0.5000\n",
            "Epoch 38/75\n",
            "2/2 [==============================] - 1s 330ms/step - loss: 0.6619 - accuracy: 0.5000\n",
            "Epoch 39/75\n",
            "2/2 [==============================] - 1s 325ms/step - loss: 0.6401 - accuracy: 0.5000\n",
            "Epoch 40/75\n",
            "2/2 [==============================] - 1s 362ms/step - loss: 0.5046 - accuracy: 0.5000\n",
            "Epoch 41/75\n",
            "2/2 [==============================] - 1s 309ms/step - loss: 0.4238 - accuracy: 0.5000\n",
            "INFO:tensorflow:Assets written to: /content/checkpoints/assets\n",
            "Epoch 42/75\n",
            "2/2 [==============================] - 1s 315ms/step - loss: 0.3502 - accuracy: 0.6875\n",
            "INFO:tensorflow:Assets written to: /content/checkpoints/assets\n",
            "Epoch 43/75\n",
            "2/2 [==============================] - 1s 343ms/step - loss: 0.3843 - accuracy: 1.0000\n",
            "Epoch 44/75\n",
            "2/2 [==============================] - 1s 347ms/step - loss: 0.3326 - accuracy: 1.0000\n",
            "INFO:tensorflow:Assets written to: /content/checkpoints/assets\n",
            "Epoch 45/75\n",
            "2/2 [==============================] - 1s 352ms/step - loss: 0.3419 - accuracy: 0.8958\n",
            "Epoch 46/75\n",
            "2/2 [==============================] - 1s 316ms/step - loss: 0.7714 - accuracy: 0.6667\n",
            "Epoch 47/75\n",
            "2/2 [==============================] - 1s 339ms/step - loss: 0.6954 - accuracy: 0.5000\n",
            "Epoch 48/75\n",
            "2/2 [==============================] - 1s 315ms/step - loss: 0.6954 - accuracy: 0.5000\n",
            "Epoch 49/75\n",
            "2/2 [==============================] - 1s 336ms/step - loss: 0.6948 - accuracy: 0.5000\n",
            "Epoch 50/75\n",
            "2/2 [==============================] - 1s 347ms/step - loss: 0.6942 - accuracy: 0.5000\n",
            "Epoch 51/75\n",
            "2/2 [==============================] - 1s 353ms/step - loss: 0.6933 - accuracy: 0.5000\n",
            "Epoch 52/75\n",
            "2/2 [==============================] - 1s 334ms/step - loss: 0.6918 - accuracy: 0.5000\n",
            "Epoch 53/75\n",
            "2/2 [==============================] - 1s 346ms/step - loss: 0.6906 - accuracy: 0.5000\n",
            "Epoch 54/75\n",
            "2/2 [==============================] - 1s 324ms/step - loss: 0.6903 - accuracy: 0.5000\n",
            "Epoch 55/75\n",
            "2/2 [==============================] - 1s 337ms/step - loss: 0.6884 - accuracy: 0.5000\n",
            "Epoch 56/75\n",
            "2/2 [==============================] - 1s 328ms/step - loss: 0.6864 - accuracy: 0.5000\n",
            "Epoch 57/75\n",
            "2/2 [==============================] - 1s 324ms/step - loss: 0.6846 - accuracy: 0.5000\n",
            "Epoch 58/75\n",
            "2/2 [==============================] - 1s 316ms/step - loss: 0.6816 - accuracy: 0.5000\n",
            "Epoch 59/75\n",
            "2/2 [==============================] - 1s 331ms/step - loss: 0.6756 - accuracy: 0.5000\n",
            "Epoch 60/75\n",
            "2/2 [==============================] - 1s 312ms/step - loss: 0.6660 - accuracy: 0.5000\n",
            "Epoch 61/75\n",
            "2/2 [==============================] - 1s 314ms/step - loss: 0.6324 - accuracy: 0.5000\n",
            "Epoch 62/75\n",
            "2/2 [==============================] - 1s 333ms/step - loss: 0.4654 - accuracy: 0.5000\n",
            "Epoch 63/75\n",
            "2/2 [==============================] - 1s 312ms/step - loss: 0.5161 - accuracy: 0.5000\n",
            "Epoch 64/75\n",
            "2/2 [==============================] - 1s 381ms/step - loss: 0.4163 - accuracy: 0.5000\n",
            "Epoch 65/75\n",
            "2/2 [==============================] - 1s 331ms/step - loss: 0.4459 - accuracy: 0.5000\n",
            "Epoch 66/75\n",
            "2/2 [==============================] - 1s 310ms/step - loss: 0.3803 - accuracy: 0.5000\n",
            "Epoch 67/75\n",
            "2/2 [==============================] - 1s 356ms/step - loss: 0.3875 - accuracy: 0.5000\n",
            "Epoch 68/75\n",
            "2/2 [==============================] - 1s 316ms/step - loss: 0.3804 - accuracy: 0.5000\n",
            "Epoch 69/75\n",
            "2/2 [==============================] - 1s 348ms/step - loss: 0.3602 - accuracy: 0.5000\n",
            "Epoch 70/75\n",
            "2/2 [==============================] - 1s 350ms/step - loss: 0.3480 - accuracy: 0.6667\n",
            "Epoch 71/75\n",
            "2/2 [==============================] - 1s 325ms/step - loss: 0.3424 - accuracy: 1.0000\n",
            "Epoch 72/75\n",
            "2/2 [==============================] - 1s 328ms/step - loss: 0.3376 - accuracy: 1.0000\n",
            "Epoch 73/75\n",
            "2/2 [==============================] - 1s 328ms/step - loss: 0.3331 - accuracy: 1.0000\n",
            "Epoch 74/75\n",
            "2/2 [==============================] - 1s 337ms/step - loss: 0.3296 - accuracy: 1.0000\n",
            "INFO:tensorflow:Assets written to: /content/checkpoints/assets\n",
            "Epoch 75/75\n",
            "2/2 [==============================] - 1s 310ms/step - loss: 5.6031 - accuracy: 0.9792\n"
          ],
          "name": "stdout"
        },
        {
          "output_type": "execute_result",
          "data": {
            "text/plain": [
              "<keras.callbacks.History at 0x7f7062e0e6d0>"
            ]
          },
          "metadata": {},
          "execution_count": 117
        }
      ]
    },
    {
      "cell_type": "code",
      "metadata": {
        "colab": {
          "base_uri": "https://localhost:8080/"
        },
        "id": "pWvGpkfybTIm",
        "outputId": "1c9a2098-640b-42fe-978e-d9cea2b3626a"
      },
      "source": [
        "!ls checkpoints"
      ],
      "execution_count": 118,
      "outputs": [
        {
          "output_type": "stream",
          "text": [
            "assets\tkeras_metadata.pb  saved_model.pb  variables\n"
          ],
          "name": "stdout"
        }
      ]
    },
    {
      "cell_type": "code",
      "metadata": {
        "colab": {
          "base_uri": "https://localhost:8080/"
        },
        "id": "qRNfgio8alBH",
        "outputId": "0989bb67-4ffb-4eca-f3d3-ce6804f15d67"
      },
      "source": [
        "model.load_weights(\"/content/checkpoints\")"
      ],
      "execution_count": 120,
      "outputs": [
        {
          "output_type": "execute_result",
          "data": {
            "text/plain": [
              "<tensorflow.python.training.tracking.util.CheckpointLoadStatus at 0x7f706f479bd0>"
            ]
          },
          "metadata": {},
          "execution_count": 120
        }
      ]
    },
    {
      "cell_type": "code",
      "metadata": {
        "colab": {
          "base_uri": "https://localhost:8080/"
        },
        "id": "m2j6aLwOcN7K",
        "outputId": "1e19b113-e107-4ddb-a6eb-a29c03e448c7"
      },
      "source": [
        "y_test"
      ],
      "execution_count": 121,
      "outputs": [
        {
          "output_type": "execute_result",
          "data": {
            "text/plain": [
              "array([1, 0, 0, 1, 1, 0])"
            ]
          },
          "metadata": {},
          "execution_count": 121
        }
      ]
    },
    {
      "cell_type": "code",
      "metadata": {
        "colab": {
          "base_uri": "https://localhost:8080/"
        },
        "id": "CsJLkWHM-NGS",
        "outputId": "a2b822fc-8d5b-4eb7-ebc6-1ab825b33db4"
      },
      "source": [
        "model.predict(X_test)"
      ],
      "execution_count": 122,
      "outputs": [
        {
          "output_type": "stream",
          "text": [
            "WARNING:tensorflow:6 out of the last 6 calls to <function Model.make_predict_function.<locals>.predict_function at 0x7f7071953d40> triggered tf.function retracing. Tracing is expensive and the excessive number of tracings could be due to (1) creating @tf.function repeatedly in a loop, (2) passing tensors with different shapes, (3) passing Python objects instead of tensors. For (1), please define your @tf.function outside of the loop. For (2), @tf.function has experimental_relax_shapes=True option that relaxes argument shapes that can avoid unnecessary retracing. For (3), please refer to https://www.tensorflow.org/guide/function#controlling_retracing and https://www.tensorflow.org/api_docs/python/tf/function for  more details.\n"
          ],
          "name": "stdout"
        },
        {
          "output_type": "execute_result",
          "data": {
            "text/plain": [
              "array([[1.        ],\n",
              "       [0.47899243],\n",
              "       [0.47961256],\n",
              "       [1.        ],\n",
              "       [1.        ],\n",
              "       [0.47965556]], dtype=float32)"
            ]
          },
          "metadata": {},
          "execution_count": 122
        }
      ]
    },
    {
      "cell_type": "code",
      "metadata": {
        "id": "07f8f_qUAaql"
      },
      "source": [
        "model.save('final_model.h5')"
      ],
      "execution_count": 123,
      "outputs": []
    }
  ]
}