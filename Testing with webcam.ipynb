{
 "cells": [
  {
   "cell_type": "code",
   "execution_count": 1,
   "metadata": {},
   "outputs": [],
   "source": [
    "%config IPCompleter.use_jedi = False"
   ]
  },
  {
   "cell_type": "code",
   "execution_count": 2,
   "metadata": {},
   "outputs": [
    {
     "name": "stderr",
     "output_type": "stream",
     "text": [
      "2021-08-31 21:42:03.527937: W tensorflow/stream_executor/platform/default/dso_loader.cc:64] Could not load dynamic library 'libcudart.so.11.0'; dlerror: libcudart.so.11.0: cannot open shared object file: No such file or directory\n",
      "2021-08-31 21:42:03.527978: I tensorflow/stream_executor/cuda/cudart_stub.cc:29] Ignore above cudart dlerror if you do not have a GPU set up on your machine.\n"
     ]
    }
   ],
   "source": [
    "import cv2\n",
    "import tensorflow as tf\n",
    "from keras.models import load_model\n",
    "import numpy as np\n",
    "import mediapipe as mp"
   ]
  },
  {
   "cell_type": "code",
   "execution_count": 3,
   "metadata": {},
   "outputs": [],
   "source": [
    "mp_drawing = mp.solutions.drawing_utils\n",
    "mp_pose = mp.solutions.pose"
   ]
  },
  {
   "cell_type": "code",
   "execution_count": 4,
   "metadata": {},
   "outputs": [
    {
     "name": "stderr",
     "output_type": "stream",
     "text": [
      "2021-08-31 21:42:05.246657: W tensorflow/stream_executor/platform/default/dso_loader.cc:64] Could not load dynamic library 'libcuda.so.1'; dlerror: libcuda.so.1: cannot open shared object file: No such file or directory\n",
      "2021-08-31 21:42:05.246697: W tensorflow/stream_executor/cuda/cuda_driver.cc:269] failed call to cuInit: UNKNOWN ERROR (303)\n",
      "2021-08-31 21:42:05.246717: I tensorflow/stream_executor/cuda/cuda_diagnostics.cc:156] kernel driver does not appear to be running on this host (Rupanshu): /proc/driver/nvidia/version does not exist\n",
      "2021-08-31 21:42:05.246929: I tensorflow/core/platform/cpu_feature_guard.cc:142] This TensorFlow binary is optimized with oneAPI Deep Neural Network Library (oneDNN) to use the following CPU instructions in performance-critical operations:  AVX2 FMA\n",
      "To enable them in other operations, rebuild TensorFlow with the appropriate compiler flags.\n"
     ]
    }
   ],
   "source": [
    "model = load_model(\"final_model.h5\")"
   ]
  },
  {
   "cell_type": "code",
   "execution_count": 5,
   "metadata": {},
   "outputs": [],
   "source": [
    "def prob_viz(input_frame, prob, prev_prob, curr_count):\n",
    "    output_frame = input_frame.copy()\n",
    "    \n",
    "    num = 1\n",
    "    \n",
    "    count = curr_count\n",
    "    \n",
    "#     cv2.rectangle(output_frame, (0,60+num*40), (int(prob*100), 90+num*40), [0, 255, 0], -1)\n",
    "    if prob > 0.95 and prev_prob is not None and prev_prob <= 0.95:\n",
    "        count += 1\n",
    "    cv2.putText(output_frame, f\"SQUAT count: {count}\", (0, 85+num*40), cv2.FONT_HERSHEY_SIMPLEX, 1, (255,255,255), 2, cv2.LINE_AA)\n",
    "        \n",
    "    return output_frame, count"
   ]
  },
  {
   "cell_type": "code",
   "execution_count": 6,
   "metadata": {},
   "outputs": [],
   "source": [
    "stream = cv2.VideoCapture(0)"
   ]
  },
  {
   "cell_type": "code",
   "execution_count": 7,
   "metadata": {},
   "outputs": [],
   "source": [
    "def get_reqd_landmarks(pose):\n",
    "    try:\n",
    "        pose_landmarks = [[res.x, res.y] for res in pose.pose_landmarks.landmark]\n",
    "        reqd_landmarks = np.array(pose_landmarks)[[11, 12, 23, 24, 25, 26]]\n",
    "        return reqd_landmarks\n",
    "    except Exception as e:\n",
    "        return None"
   ]
  },
  {
   "cell_type": "code",
   "execution_count": 8,
   "metadata": {},
   "outputs": [
    {
     "name": "stderr",
     "output_type": "stream",
     "text": [
      "INFO: Created TensorFlow Lite XNNPACK delegate for CPU.\n",
      "2021-08-31 21:42:19.487878: I tensorflow/compiler/mlir/mlir_graph_optimization_pass.cc:185] None of the MLIR Optimization Passes are enabled (registered 2)\n"
     ]
    }
   ],
   "source": [
    "sequence = []\n",
    "prev_prob = None\n",
    "curr_count = 0\n",
    "\n",
    "with mp_pose.Pose(min_detection_confidence=0.2, min_tracking_confidence=0.2) as pose:\n",
    "    while stream.isOpened():\n",
    "        ret, frame = stream.read()\n",
    "\n",
    "        if ret is False:\n",
    "            break\n",
    "\n",
    "        extracted_pose = pose.process(frame)\n",
    "        if extracted_pose is None:\n",
    "            continue\n",
    "            \n",
    "        landmarks = get_reqd_landmarks(extracted_pose)\n",
    "        \n",
    "        if landmarks is None:\n",
    "            continue\n",
    "        \n",
    "        landmarks = landmarks.ravel().tolist()\n",
    "                \n",
    "        sequence.append(landmarks)\n",
    "        \n",
    "        sequence = sequence[-75:]\n",
    "                \n",
    "        if len(sequence) == 75:\n",
    "            prob = model.predict(np.expand_dims(np.array(sequence), axis=0)).item()\n",
    "            \n",
    "            op_frame, curr_count = prob_viz(frame, prob, prev_prob, curr_count)\n",
    "            \n",
    "            cv2.imshow('Webcam', op_frame)\n",
    "            \n",
    "            prev_prob = prob\n",
    "\n",
    "            if cv2.waitKey(10) & 0xFF == ord('q'):\n",
    "                break\n",
    "                cv2.destroyAllWindows()\n",
    "                \n",
    "cv2.destroyAllWindows()"
   ]
  }
 ],
 "metadata": {
  "kernelspec": {
   "display_name": "mpipe",
   "language": "python",
   "name": "myenv"
  },
  "language_info": {
   "codemirror_mode": {
    "name": "ipython",
    "version": 3
   },
   "file_extension": ".py",
   "mimetype": "text/x-python",
   "name": "python",
   "nbconvert_exporter": "python",
   "pygments_lexer": "ipython3",
   "version": "3.8.10"
  }
 },
 "nbformat": 4,
 "nbformat_minor": 4
}
