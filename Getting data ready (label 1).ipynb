{
 "cells": [
  {
   "cell_type": "code",
   "execution_count": 1,
   "metadata": {},
   "outputs": [],
   "source": [
    "import cv2\n",
    "import mediapipe as mp\n",
    "import numpy as np\n",
    "import matplotlib.pyplot as plt\n",
    "import glob"
   ]
  },
  {
   "cell_type": "code",
   "execution_count": 2,
   "metadata": {},
   "outputs": [],
   "source": [
    "# mp_drawing = mp.solutions.drawing_utils\n",
    "mp_pose = mp.solutions.pose"
   ]
  },
  {
   "cell_type": "code",
   "execution_count": 10,
   "metadata": {},
   "outputs": [],
   "source": [
    "clips_filenames = glob.glob(\"/home/rupanshu/Desktop/Content/TrAIner/clips/*\")"
   ]
  },
  {
   "cell_type": "code",
   "execution_count": 11,
   "metadata": {},
   "outputs": [],
   "source": [
    "clips_filenames = sorted(clips_filenames)"
   ]
  },
  {
   "cell_type": "code",
   "execution_count": 12,
   "metadata": {},
   "outputs": [],
   "source": [
    "clips_np = []\n",
    "clips_poses = []"
   ]
  },
  {
   "cell_type": "code",
   "execution_count": 13,
   "metadata": {},
   "outputs": [],
   "source": [
    "def get_reqd_landmarks(pose):\n",
    "    try:\n",
    "        pose_landmarks = [[res.x, res.y] for res in pose.pose_landmarks.landmark]\n",
    "        reqd_landmarks = np.array(pose_landmarks)[[11, 12, 23, 24, 25, 26]]\n",
    "        return reqd_landmarks\n",
    "    except:\n",
    "        return None"
   ]
  },
  {
   "cell_type": "code",
   "execution_count": 14,
   "metadata": {},
   "outputs": [],
   "source": [
    "clips_filenames = clips_filenames[18:]"
   ]
  },
  {
   "cell_type": "code",
   "execution_count": 15,
   "metadata": {
    "scrolled": true
   },
   "outputs": [
    {
     "name": "stdout",
     "output_type": "stream",
     "text": [
      "8 of 8\r"
     ]
    }
   ],
   "source": [
    "with mp_pose.Pose(min_detection_confidence=0.2, min_tracking_confidence=0.2) as pose:\n",
    "    for idx in range(len(clips_filenames)):\n",
    "        filename = clips_filenames[idx]\n",
    "#         print(filename)\n",
    "        stream = cv2.VideoCapture(filename)\n",
    "        print(f'{idx} of {(len(clips_filenames)-1)}', end='\\r')\n",
    "\n",
    "        clip_np = []\n",
    "        poses   = []\n",
    "\n",
    "        while stream.isOpened():\n",
    "            ret, frame = stream.read()\n",
    "            \n",
    "            if ret is False or (len(np.unique(frame.ravel())) == 1 and np.unique(frame.ravel()) == 0):\n",
    "                break\n",
    "            \n",
    "            extracted_pose = pose.process(frame)\n",
    "            if extracted_pose is None:\n",
    "                continue\n",
    "\n",
    "            clip_np.append(frame)\n",
    "            poses.append(extracted_pose)\n",
    "\n",
    "        clips_np.append(clip_np)\n",
    "        clips_poses.append(poses)"
   ]
  },
  {
   "cell_type": "code",
   "execution_count": 16,
   "metadata": {},
   "outputs": [],
   "source": [
    "clips_landmarks = []"
   ]
  },
  {
   "cell_type": "code",
   "execution_count": 17,
   "metadata": {},
   "outputs": [],
   "source": [
    "for i in range(len(clips_poses)):\n",
    "    landmarks = []\n",
    "    for j in range(len(clips_poses[i])):\n",
    "        landmark = get_reqd_landmarks(clips_poses[i][j])\n",
    "        \n",
    "        if landmark is not None:\n",
    "            landmarks.append(landmark)\n",
    "    clips_landmarks.append(landmarks)"
   ]
  },
  {
   "cell_type": "code",
   "execution_count": 18,
   "metadata": {},
   "outputs": [],
   "source": [
    "import pickle"
   ]
  },
  {
   "cell_type": "code",
   "execution_count": 19,
   "metadata": {},
   "outputs": [
    {
     "data": {
      "text/plain": [
       "9"
      ]
     },
     "execution_count": 19,
     "metadata": {},
     "output_type": "execute_result"
    }
   ],
   "source": [
    "len(clips_landmarks)"
   ]
  },
  {
   "cell_type": "code",
   "execution_count": 20,
   "metadata": {},
   "outputs": [],
   "source": [
    "with open('last_9_landmarks.pkl', 'wb') as f:\n",
    "    pickle.dump(clips_landmarks, f)"
   ]
  },
  {
   "cell_type": "code",
   "execution_count": 35,
   "metadata": {},
   "outputs": [],
   "source": [
    "max_frames = -1\n",
    "\n",
    "for i in range(len(clips_landmarks)):\n",
    "#     print(i+1, len(clips_landmarks[i]))\n",
    "    max_frames = max(len(clips_landmarks[i]), max_frames)"
   ]
  },
  {
   "cell_type": "code",
   "execution_count": 37,
   "metadata": {},
   "outputs": [],
   "source": [
    "for clip_idx in range(len(clips_landmarks)):\n",
    "    delta = max_frames - len(clips_landmarks[clip_idx])\n",
    "    \n",
    "    to_fill = clips_landmarks[clip_idx][-1]\n",
    "    \n",
    "    for i in range(delta):\n",
    "        clips_landmarks[clip_idx].append(to_fill)"
   ]
  },
  {
   "cell_type": "code",
   "execution_count": 43,
   "metadata": {},
   "outputs": [],
   "source": [
    "np.save(\"final_data_label1.npy\", np.array(clips_landmarks))"
   ]
  }
 ],
 "metadata": {
  "kernelspec": {
   "display_name": "mpipe",
   "language": "python",
   "name": "myenv"
  },
  "language_info": {
   "codemirror_mode": {
    "name": "ipython",
    "version": 3
   },
   "file_extension": ".py",
   "mimetype": "text/x-python",
   "name": "python",
   "nbconvert_exporter": "python",
   "pygments_lexer": "ipython3",
   "version": "3.8.10"
  }
 },
 "nbformat": 4,
 "nbformat_minor": 4
}
